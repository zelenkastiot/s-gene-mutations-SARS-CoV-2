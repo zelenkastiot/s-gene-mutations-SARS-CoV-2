{
 "cells": [
  {
   "cell_type": "code",
   "execution_count": 38,
   "metadata": {
    "ExecuteTime": {
     "end_time": "2021-06-30T23:22:51.137533Z",
     "start_time": "2021-06-30T23:22:51.118372Z"
    }
   },
   "outputs": [],
   "source": [
    "\"\"\"\n",
    "\n",
    " Created on 30-Jun-21\n",
    " @author: Kiril Zelenkovski\n",
    "\n",
    "\"\"\"\n",
    "import six.moves.urllib.request as urlreq\n",
    "from six import PY3\n",
    "from Bio.SeqRecord import SeqRecord\n",
    "from Bio.Seq import Seq \n",
    "import dash\n",
    "import dash_bio as dashbio\n",
    "import dash_html_components as html\n",
    "from Bio import SeqIO\n",
    "import os\n",
    "import glob\n",
    "import pandas as pd\n",
    "import re"
   ]
  },
  {
   "cell_type": "code",
   "execution_count": 44,
   "metadata": {
    "ExecuteTime": {
     "end_time": "2021-06-30T23:35:47.940401Z",
     "start_time": "2021-06-30T23:35:47.921001Z"
    },
    "code_folding": [
     0,
     20,
     68
    ]
   },
   "outputs": [],
   "source": [
    "def get_mutations(S_protein, variants):\n",
    "    var_aa = []\n",
    "    for name in variants:\n",
    "        print(name)\n",
    "        mutations = name.split(\"_\")\n",
    "        S_copy = S_protein[:]\n",
    "        for m in range(0, len(mutations)):\n",
    "            mutations_list = re.split('(\\d+)', mutations[m])\n",
    "            if mutations_list[2] == 'del':\n",
    "                continue\n",
    "            else:\n",
    "                codon_num = int(mutations_list[1]) - 1\n",
    "                print(\"Mutating \", S_copy[codon_num], \"into\", mutations_list[2])\n",
    "                S_copy[codon_num] = mutations_list[2]\n",
    "\n",
    "        S_aa = \"\".join(S_copy)\n",
    "        print(S_aa[:15] + \"...\"+S_aa[-1], \"\\n\")\n",
    "        var_aa.append(S_aa)\n",
    "    return var_aa\n",
    "\n",
    "def create_linage_peptides(S_protein, lineages):\n",
    "    \"\"\"\n",
    "\n",
    "    :param S_protein:\n",
    "    :param lineages:\n",
    "    :return:\n",
    "    \"\"\"\n",
    "    linage_aa = []\n",
    "    for lineage in lineages:\n",
    "        # Create copy for current linage\n",
    "        S_copy = S_protein[:]\n",
    "\n",
    "        # Opening JSON file\n",
    "        f = open('C:\\\\Users\\\\zelen\\\\Desktop\\\\Sars-Cov-2-variants\\\\outbreakinfo\\\\' + lineage + '.json', )\n",
    "\n",
    "        # json.load: returns JSON object as a dictionary\n",
    "        data = json.load(f)\n",
    "\n",
    "        # Mutations in linage\n",
    "        print(lineage)\n",
    "        for mutation in data:\n",
    "            if mutation['gene'] == 'S':\n",
    "\n",
    "                if mutation['type'] == 'substitution':\n",
    "                    ref_aa = mutation['ref_aa']\n",
    "                    codon_num = mutation['codon_num'] - 1\n",
    "                    alt_aa = mutation['alt_aa']\n",
    "\n",
    "                    print(\"Mutation is of type - \" + mutation['type'], \" :\",\n",
    "                          mutation['ref_aa'],\n",
    "                          mutation['codon_num'],\n",
    "                          mutation['alt_aa'])\n",
    "\n",
    "                    # Check if aa on codon is equal to aa on referent genome\n",
    "                    if S_copy[codon_num] == ref_aa:\n",
    "                        # Mutate to alternative amino acid\n",
    "                        S_copy[codon_num] = alt_aa\n",
    "                        print(\"Mutated \" + ref_aa + \" into \" + alt_aa)\n",
    "\n",
    "\n",
    "\n",
    "        S_aa = \"\".join(S_copy)\n",
    "        print(S_aa, \"\\n\")\n",
    "        linage_aa.append(S_aa)\n",
    "\n",
    "\n",
    "    return linage_aa\n",
    "\n",
    "def sequence_compare(seq_a, seq_b):\n",
    "    len1 = len(seq_a)\n",
    "    len2 = len(seq_b)\n",
    "    mismatches = []\n",
    "    mismatches_count = 0\n",
    "    print(\"-^-^-^-^-^-^-^-^-^-^-^-^ MISMATCHING -^-^-^-^-^-^-^-^-^-^-^-^\")\n",
    "    for pos in range(0, min(len1, len2)):\n",
    "        if seq_a[pos] != seq_b[pos]:\n",
    "            mismatches.append('|')\n",
    "            mismatches_count += 1\n",
    "            print(f\"Mismatch {mismatches_count}:\", seq_b[pos], pos + 1, seq_a[pos])\n",
    "        else:\n",
    "            mismatches.append(' ')\n",
    "    print(\"\\n\", f\"Total # of mismatches: {mismatches_count}\")\n",
    "    print()\n",
    "    print(\"Lineage\")\n",
    "    print(seq_b)\n",
    "    print(\"\".join(mismatches))\n",
    "    print(seq_a)\n",
    "    print(\"Variant\")"
   ]
  },
  {
   "cell_type": "code",
   "execution_count": 22,
   "metadata": {
    "ExecuteTime": {
     "end_time": "2021-06-30T23:18:43.050745Z",
     "start_time": "2021-06-30T23:18:43.025082Z"
    }
   },
   "outputs": [
    {
     "name": "stdout",
     "output_type": "stream",
     "text": [
      "ID:  YP_009724390.1\n",
      "Description: Surface glycoprotein [Sars-Cov-2]\n",
      "Protein sequence:  Seq('MFVFLVLLPLVSSQCVNLTTRTQLPPAYTNSFTRGVYYPDKVFRSSVLHSTQDL...HYT')\n",
      "Amino acid length:  1273 \n",
      "\n"
     ]
    }
   ],
   "source": [
    "for seq_record in SeqIO.parse(\"C:\\\\Users\\\\zelen\\\\Desktop\\\\Sars-Cov-2-variants\\\\data-fasta\\\\sars-cov-2-glycoprotein.fasta\", \"fasta\"):\n",
    "    print(\"ID: \", seq_record.id)\n",
    "    print(\"Description: Surface glycoprotein [Sars-Cov-2]\")\n",
    "    print(\"Protein sequence: \", repr(seq_record.seq))\n",
    "    print(\"Amino acid length: \", len(seq_record), \"\\n\")\n",
    "\n",
    "S_region = list(seq_record.seq)"
   ]
  },
  {
   "cell_type": "code",
   "execution_count": 56,
   "metadata": {
    "ExecuteTime": {
     "end_time": "2021-06-30T23:48:22.104121Z",
     "start_time": "2021-06-30T23:48:21.208801Z"
    }
   },
   "outputs": [
    {
     "data": {
      "text/plain": [
       "[('B.1.1.7', 2434),\n",
       " ('B.1.351', 1006),\n",
       " ('B.1', 441),\n",
       " ('B.1.429', 384),\n",
       " ('B.1.258', 312)]"
      ]
     },
     "execution_count": 56,
     "metadata": {},
     "output_type": "execute_result"
    }
   ],
   "source": [
    "import os\n",
    "import glob\n",
    "import pandas as pd\n",
    "\n",
    "# Read combined_csv_data from 0-phase\n",
    "df = pd.read_csv(\"C:\\\\Users\\\\zelen\\\\Desktop\\\\Sars-Cov-2-variants\\\\combined_data-2.csv\")\n",
    "\n",
    "# List all lineages\n",
    "all_lineages = []\n",
    "for index, row in df.iterrows():\n",
    "    all_lineages.append(row['#Top Lineage'].split(\" \")[1])\n",
    "    # if row['#Top Lineage'].split(\" \")[1] == \"B.1.1.70\":\n",
    "    #     print(row['Variant'])\n",
    "\n",
    "\n",
    "import collections\n",
    "\n",
    "counter = collections.Counter(all_lineages)\n",
    "c = counter.most_common(5)\n",
    "c"
   ]
  },
  {
   "cell_type": "code",
   "execution_count": 59,
   "metadata": {
    "ExecuteTime": {
     "end_time": "2021-06-30T23:49:42.914340Z",
     "start_time": "2021-06-30T23:49:42.867329Z"
    }
   },
   "outputs": [
    {
     "name": "stdout",
     "output_type": "stream",
     "text": [
      "B.1.258\n",
      "Mutation is of type - substitution  : D 614 G\n",
      "Mutated D into G\n",
      "Mutation is of type - substitution  : N 439 K\n",
      "Mutated N into K\n",
      "MFVFLVLLPLVSSQCVNLTTRTQLPPAYTNSFTRGVYYPDKVFRSSVLHSTQDLFLPFFSNVTWFHAIHVSGTNGTKRFDNPVLPFNDGVYFASTEKSNIIRGWIFGTTLDSKTQSLLIVNNATNVVIKVCEFQFCNDPFLGVYYHKNNKSWMESEFRVYSSANNCTFEYVSQPFLMDLEGKQGNFKNLREFVFKNIDGYFKIYSKHTPINLVRDLPQGFSALEPLVDLPIGINITRFQTLLALHRSYLTPGDSSSGWTAGAAAYYVGYLQPRTFLLKYNENGTITDAVDCALDPLSETKCTLKSFTVEKGIYQTSNFRVQPTESIVRFPNITNLCPFGEVFNATRFASVYAWNRKRISNCVADYSVLYNSASFSTFKCYGVSPTKLNDLCFTNVYADSFVIRGDEVRQIAPGQTGKIADYNYKLPDDFTGCVIAWNSKNLDSKVGGNYNYLYRLFRKSNLKPFERDISTEIYQAGSTPCNGVEGFNCYFPLQSYGFQPTNGVGYQPYRVVVLSFELLHAPATVCGPKKSTNLVKNKCVNFNFNGLTGTGVLTESNKKFLPFQQFGRDIADTTDAVRDPQTLEILDITPCSFGGVSVITPGTNTSNQVAVLYQGVNCTEVPVAIHADQLTPTWRVYSTGSNVFQTRAGCLIGAEHVNNSYECDIPIGAGICASYQTQTNSPRRARSVASQSIIAYTMSLGAENSVAYSNNSIAIPTNFTISVTTEILPVSMTKTSVDCTMYICGDSTECSNLLLQYGSFCTQLNRALTGIAVEQDKNTQEVFAQVKQIYKTPPIKDFGGFNFSQILPDPSKPSKRSFIEDLLFNKVTLADAGFIKQYGDCLGDIAARDLICAQKFNGLTVLPPLLTDEMIAQYTSALLAGTITSGWTFGAGAALQIPFAMQMAYRFNGIGVTQNVLYENQKLIANQFNSAIGKIQDSLSSTASALGKLQDVVNQNAQALNTLVKQLSSNFGAISSVLNDILSRLDKVEAEVQIDRLITGRLQSLQTYVTQQLIRAAEIRASANLAATKMSECVLGQSKRVDFCGKGYHLMSFPQSAPHGVVFLHVTYVPAQEKNFTTAPAICHDGKAHFPREGVFVSNGTHWFVTQRNFYEPQIITTDNTFVSGNCDVVIGIVNNTVYDPLQPELDSFKEELDKYFKNHTSPDVDLGDISGINASVVNIQKEIDRLNEVAKNLNESLIDLQELGKYEQYIKWPWYIWLGFIAGLIAIVMVTIMLCCMTSCCSCLKGCCSCGSCCKFDEDDSEPVLKGVKLHYT \n",
      "\n",
      "B.1.429\n",
      "Mutation is of type - substitution  : D 614 G\n",
      "Mutated D into G\n",
      "Mutation is of type - substitution  : L 452 R\n",
      "Mutated L into R\n",
      "Mutation is of type - substitution  : W 152 C\n",
      "Mutated W into C\n",
      "Mutation is of type - substitution  : S 13 I\n",
      "Mutated S into I\n",
      "MFVFLVLLPLVSIQCVNLTTRTQLPPAYTNSFTRGVYYPDKVFRSSVLHSTQDLFLPFFSNVTWFHAIHVSGTNGTKRFDNPVLPFNDGVYFASTEKSNIIRGWIFGTTLDSKTQSLLIVNNATNVVIKVCEFQFCNDPFLGVYYHKNNKSCMESEFRVYSSANNCTFEYVSQPFLMDLEGKQGNFKNLREFVFKNIDGYFKIYSKHTPINLVRDLPQGFSALEPLVDLPIGINITRFQTLLALHRSYLTPGDSSSGWTAGAAAYYVGYLQPRTFLLKYNENGTITDAVDCALDPLSETKCTLKSFTVEKGIYQTSNFRVQPTESIVRFPNITNLCPFGEVFNATRFASVYAWNRKRISNCVADYSVLYNSASFSTFKCYGVSPTKLNDLCFTNVYADSFVIRGDEVRQIAPGQTGKIADYNYKLPDDFTGCVIAWNSNNLDSKVGGNYNYRYRLFRKSNLKPFERDISTEIYQAGSTPCNGVEGFNCYFPLQSYGFQPTNGVGYQPYRVVVLSFELLHAPATVCGPKKSTNLVKNKCVNFNFNGLTGTGVLTESNKKFLPFQQFGRDIADTTDAVRDPQTLEILDITPCSFGGVSVITPGTNTSNQVAVLYQGVNCTEVPVAIHADQLTPTWRVYSTGSNVFQTRAGCLIGAEHVNNSYECDIPIGAGICASYQTQTNSPRRARSVASQSIIAYTMSLGAENSVAYSNNSIAIPTNFTISVTTEILPVSMTKTSVDCTMYICGDSTECSNLLLQYGSFCTQLNRALTGIAVEQDKNTQEVFAQVKQIYKTPPIKDFGGFNFSQILPDPSKPSKRSFIEDLLFNKVTLADAGFIKQYGDCLGDIAARDLICAQKFNGLTVLPPLLTDEMIAQYTSALLAGTITSGWTFGAGAALQIPFAMQMAYRFNGIGVTQNVLYENQKLIANQFNSAIGKIQDSLSSTASALGKLQDVVNQNAQALNTLVKQLSSNFGAISSVLNDILSRLDKVEAEVQIDRLITGRLQSLQTYVTQQLIRAAEIRASANLAATKMSECVLGQSKRVDFCGKGYHLMSFPQSAPHGVVFLHVTYVPAQEKNFTTAPAICHDGKAHFPREGVFVSNGTHWFVTQRNFYEPQIITTDNTFVSGNCDVVIGIVNNTVYDPLQPELDSFKEELDKYFKNHTSPDVDLGDISGINASVVNIQKEIDRLNEVAKNLNESLIDLQELGKYEQYIKWPWYIWLGFIAGLIAIVMVTIMLCCMTSCCSCLKGCCSCGSCCKFDEDDSEPVLKGVKLHYT \n",
      "\n",
      "B.1\n",
      "Mutation is of type - substitution  : D 614 G\n",
      "Mutated D into G\n",
      "MFVFLVLLPLVSSQCVNLTTRTQLPPAYTNSFTRGVYYPDKVFRSSVLHSTQDLFLPFFSNVTWFHAIHVSGTNGTKRFDNPVLPFNDGVYFASTEKSNIIRGWIFGTTLDSKTQSLLIVNNATNVVIKVCEFQFCNDPFLGVYYHKNNKSWMESEFRVYSSANNCTFEYVSQPFLMDLEGKQGNFKNLREFVFKNIDGYFKIYSKHTPINLVRDLPQGFSALEPLVDLPIGINITRFQTLLALHRSYLTPGDSSSGWTAGAAAYYVGYLQPRTFLLKYNENGTITDAVDCALDPLSETKCTLKSFTVEKGIYQTSNFRVQPTESIVRFPNITNLCPFGEVFNATRFASVYAWNRKRISNCVADYSVLYNSASFSTFKCYGVSPTKLNDLCFTNVYADSFVIRGDEVRQIAPGQTGKIADYNYKLPDDFTGCVIAWNSNNLDSKVGGNYNYLYRLFRKSNLKPFERDISTEIYQAGSTPCNGVEGFNCYFPLQSYGFQPTNGVGYQPYRVVVLSFELLHAPATVCGPKKSTNLVKNKCVNFNFNGLTGTGVLTESNKKFLPFQQFGRDIADTTDAVRDPQTLEILDITPCSFGGVSVITPGTNTSNQVAVLYQGVNCTEVPVAIHADQLTPTWRVYSTGSNVFQTRAGCLIGAEHVNNSYECDIPIGAGICASYQTQTNSPRRARSVASQSIIAYTMSLGAENSVAYSNNSIAIPTNFTISVTTEILPVSMTKTSVDCTMYICGDSTECSNLLLQYGSFCTQLNRALTGIAVEQDKNTQEVFAQVKQIYKTPPIKDFGGFNFSQILPDPSKPSKRSFIEDLLFNKVTLADAGFIKQYGDCLGDIAARDLICAQKFNGLTVLPPLLTDEMIAQYTSALLAGTITSGWTFGAGAALQIPFAMQMAYRFNGIGVTQNVLYENQKLIANQFNSAIGKIQDSLSSTASALGKLQDVVNQNAQALNTLVKQLSSNFGAISSVLNDILSRLDKVEAEVQIDRLITGRLQSLQTYVTQQLIRAAEIRASANLAATKMSECVLGQSKRVDFCGKGYHLMSFPQSAPHGVVFLHVTYVPAQEKNFTTAPAICHDGKAHFPREGVFVSNGTHWFVTQRNFYEPQIITTDNTFVSGNCDVVIGIVNNTVYDPLQPELDSFKEELDKYFKNHTSPDVDLGDISGINASVVNIQKEIDRLNEVAKNLNESLIDLQELGKYEQYIKWPWYIWLGFIAGLIAIVMVTIMLCCMTSCCSCLKGCCSCGSCCKFDEDDSEPVLKGVKLHYT \n",
      "\n",
      "B.1.351\n",
      "Mutation is of type - substitution  : D 614 G\n",
      "Mutated D into G\n",
      "Mutation is of type - substitution  : D 80 A\n",
      "Mutated D into A\n",
      "Mutation is of type - substitution  : A 701 V\n",
      "Mutated A into V\n",
      "Mutation is of type - substitution  : K 417 N\n",
      "Mutated K into N\n",
      "Mutation is of type - substitution  : D 215 G\n",
      "Mutated D into G\n",
      "Mutation is of type - substitution  : N 501 Y\n",
      "Mutated N into Y\n",
      "Mutation is of type - substitution  : E 484 K\n",
      "Mutated E into K\n",
      "MFVFLVLLPLVSSQCVNLTTRTQLPPAYTNSFTRGVYYPDKVFRSSVLHSTQDLFLPFFSNVTWFHAIHVSGTNGTKRFANPVLPFNDGVYFASTEKSNIIRGWIFGTTLDSKTQSLLIVNNATNVVIKVCEFQFCNDPFLGVYYHKNNKSWMESEFRVYSSANNCTFEYVSQPFLMDLEGKQGNFKNLREFVFKNIDGYFKIYSKHTPINLVRGLPQGFSALEPLVDLPIGINITRFQTLLALHRSYLTPGDSSSGWTAGAAAYYVGYLQPRTFLLKYNENGTITDAVDCALDPLSETKCTLKSFTVEKGIYQTSNFRVQPTESIVRFPNITNLCPFGEVFNATRFASVYAWNRKRISNCVADYSVLYNSASFSTFKCYGVSPTKLNDLCFTNVYADSFVIRGDEVRQIAPGQTGNIADYNYKLPDDFTGCVIAWNSNNLDSKVGGNYNYLYRLFRKSNLKPFERDISTEIYQAGSTPCNGVKGFNCYFPLQSYGFQPTYGVGYQPYRVVVLSFELLHAPATVCGPKKSTNLVKNKCVNFNFNGLTGTGVLTESNKKFLPFQQFGRDIADTTDAVRDPQTLEILDITPCSFGGVSVITPGTNTSNQVAVLYQGVNCTEVPVAIHADQLTPTWRVYSTGSNVFQTRAGCLIGAEHVNNSYECDIPIGAGICASYQTQTNSPRRARSVASQSIIAYTMSLGVENSVAYSNNSIAIPTNFTISVTTEILPVSMTKTSVDCTMYICGDSTECSNLLLQYGSFCTQLNRALTGIAVEQDKNTQEVFAQVKQIYKTPPIKDFGGFNFSQILPDPSKPSKRSFIEDLLFNKVTLADAGFIKQYGDCLGDIAARDLICAQKFNGLTVLPPLLTDEMIAQYTSALLAGTITSGWTFGAGAALQIPFAMQMAYRFNGIGVTQNVLYENQKLIANQFNSAIGKIQDSLSSTASALGKLQDVVNQNAQALNTLVKQLSSNFGAISSVLNDILSRLDKVEAEVQIDRLITGRLQSLQTYVTQQLIRAAEIRASANLAATKMSECVLGQSKRVDFCGKGYHLMSFPQSAPHGVVFLHVTYVPAQEKNFTTAPAICHDGKAHFPREGVFVSNGTHWFVTQRNFYEPQIITTDNTFVSGNCDVVIGIVNNTVYDPLQPELDSFKEELDKYFKNHTSPDVDLGDISGINASVVNIQKEIDRLNEVAKNLNESLIDLQELGKYEQYIKWPWYIWLGFIAGLIAIVMVTIMLCCMTSCCSCLKGCCSCGSCCKFDEDDSEPVLKGVKLHYT \n",
      "\n",
      "B.1.1.7\n",
      "Mutation is of type - substitution  : D 614 G\n",
      "Mutated D into G\n",
      "Mutation is of type - substitution  : D 1118 H\n",
      "Mutated D into H\n",
      "Mutation is of type - substitution  : A 570 D\n",
      "Mutated A into D\n",
      "Mutation is of type - substitution  : S 982 A\n",
      "Mutated S into A\n",
      "Mutation is of type - substitution  : T 716 I\n",
      "Mutated T into I\n",
      "Mutation is of type - substitution  : P 681 H\n",
      "Mutated P into H\n",
      "Mutation is of type - substitution  : N 501 Y\n",
      "Mutated N into Y\n",
      "MFVFLVLLPLVSSQCVNLTTRTQLPPAYTNSFTRGVYYPDKVFRSSVLHSTQDLFLPFFSNVTWFHAIHVSGTNGTKRFDNPVLPFNDGVYFASTEKSNIIRGWIFGTTLDSKTQSLLIVNNATNVVIKVCEFQFCNDPFLGVYYHKNNKSWMESEFRVYSSANNCTFEYVSQPFLMDLEGKQGNFKNLREFVFKNIDGYFKIYSKHTPINLVRDLPQGFSALEPLVDLPIGINITRFQTLLALHRSYLTPGDSSSGWTAGAAAYYVGYLQPRTFLLKYNENGTITDAVDCALDPLSETKCTLKSFTVEKGIYQTSNFRVQPTESIVRFPNITNLCPFGEVFNATRFASVYAWNRKRISNCVADYSVLYNSASFSTFKCYGVSPTKLNDLCFTNVYADSFVIRGDEVRQIAPGQTGKIADYNYKLPDDFTGCVIAWNSNNLDSKVGGNYNYLYRLFRKSNLKPFERDISTEIYQAGSTPCNGVEGFNCYFPLQSYGFQPTYGVGYQPYRVVVLSFELLHAPATVCGPKKSTNLVKNKCVNFNFNGLTGTGVLTESNKKFLPFQQFGRDIDDTTDAVRDPQTLEILDITPCSFGGVSVITPGTNTSNQVAVLYQGVNCTEVPVAIHADQLTPTWRVYSTGSNVFQTRAGCLIGAEHVNNSYECDIPIGAGICASYQTQTNSHRRARSVASQSIIAYTMSLGAENSVAYSNNSIAIPINFTISVTTEILPVSMTKTSVDCTMYICGDSTECSNLLLQYGSFCTQLNRALTGIAVEQDKNTQEVFAQVKQIYKTPPIKDFGGFNFSQILPDPSKPSKRSFIEDLLFNKVTLADAGFIKQYGDCLGDIAARDLICAQKFNGLTVLPPLLTDEMIAQYTSALLAGTITSGWTFGAGAALQIPFAMQMAYRFNGIGVTQNVLYENQKLIANQFNSAIGKIQDSLSSTASALGKLQDVVNQNAQALNTLVKQLSSNFGAISSVLNDILARLDKVEAEVQIDRLITGRLQSLQTYVTQQLIRAAEIRASANLAATKMSECVLGQSKRVDFCGKGYHLMSFPQSAPHGVVFLHVTYVPAQEKNFTTAPAICHDGKAHFPREGVFVSNGTHWFVTQRNFYEPQIITTHNTFVSGNCDVVIGIVNNTVYDPLQPELDSFKEELDKYFKNHTSPDVDLGDISGINASVVNIQKEIDRLNEVAKNLNESLIDLQELGKYEQYIKWPWYIWLGFIAGLIAIVMVTIMLCCMTSCCSCLKGCCSCGSCCKFDEDDSEPVLKGVKLHYT \n",
      "\n"
     ]
    }
   ],
   "source": [
    "top_lineages = []\n",
    "\n",
    "for i in reversed(c):\n",
    "    label = i[0]\n",
    "    top_lineages.append(label)\n",
    "\n",
    "seq_temp = create_linage_peptides(S_region, top_lineages)"
   ]
  },
  {
   "cell_type": "code",
   "execution_count": 60,
   "metadata": {
    "ExecuteTime": {
     "end_time": "2021-06-30T23:50:50.904728Z",
     "start_time": "2021-06-30T23:50:50.894696Z"
    }
   },
   "outputs": [
    {
     "data": {
      "text/plain": [
       "'MFVFLVLLPLVSSQCVNLTTRTQLPPAYTNSFTRGVYYPDKVFRSSVLHSTQDLFLPFFSNVTWFHAIHVSGTNGTKRFDNPVLPFNDGVYFASTEKSNIIRGWIFGTTLDSKTQSLLIVNNATNVVIKVCEFQFCNDPFLGVYYHKNNKSWMESEFRVYSSANNCTFEYVSQPFLMDLEGKQGNFKNLREFVFKNIDGYFKIYSKHTPINLVRDLPQGFSALEPLVDLPIGINITRFQTLLALHRSYLTPGDSSSGWTAGAAAYYVGYLQPRTFLLKYNENGTITDAVDCALDPLSETKCTLKSFTVEKGIYQTSNFRVQPTESIVRFPNITNLCPFGEVFNATRFASVYAWNRKRISNCVADYSVLYNSASFSTFKCYGVSPTKLNDLCFTNVYADSFVIRGDEVRQIAPGQTGKIADYNYKLPDDFTGCVIAWNSKNLDSKVGGNYNYLYRLFRKSNLKPFERDISTEIYQAGSTPCNGVEGFNCYFPLQSYGFQPTNGVGYQPYRVVVLSFELLHAPATVCGPKKSTNLVKNKCVNFNFNGLTGTGVLTESNKKFLPFQQFGRDIADTTDAVRDPQTLEILDITPCSFGGVSVITPGTNTSNQVAVLYQGVNCTEVPVAIHADQLTPTWRVYSTGSNVFQTRAGCLIGAEHVNNSYECDIPIGAGICASYQTQTNSPRRARSVASQSIIAYTMSLGAENSVAYSNNSIAIPTNFTISVTTEILPVSMTKTSVDCTMYICGDSTECSNLLLQYGSFCTQLNRALTGIAVEQDKNTQEVFAQVKQIYKTPPIKDFGGFNFSQILPDPSKPSKRSFIEDLLFNKVTLADAGFIKQYGDCLGDIAARDLICAQKFNGLTVLPPLLTDEMIAQYTSALLAGTITSGWTFGAGAALQIPFAMQMAYRFNGIGVTQNVLYENQKLIANQFNSAIGKIQDSLSSTASALGKLQDVVNQNAQALNTLVKQLSSNFGAISSVLNDILSRLDKVEAEVQIDRLITGRLQSLQTYVTQQLIRAAEIRASANLAATKMSECVLGQSKRVDFCGKGYHLMSFPQSAPHGVVFLHVTYVPAQEKNFTTAPAICHDGKAHFPREGVFVSNGTHWFVTQRNFYEPQIITTDNTFVSGNCDVVIGIVNNTVYDPLQPELDSFKEELDKYFKNHTSPDVDLGDISGINASVVNIQKEIDRLNEVAKNLNESLIDLQELGKYEQYIKWPWYIWLGFIAGLIAIVMVTIMLCCMTSCCSCLKGCCSCGSCCKFDEDDSEPVLKGVKLHYT'"
      ]
     },
     "execution_count": 60,
     "metadata": {},
     "output_type": "execute_result"
    }
   ],
   "source": [
    "seq_temp[0]"
   ]
  },
  {
   "cell_type": "code",
   "execution_count": 62,
   "metadata": {
    "ExecuteTime": {
     "end_time": "2021-06-30T23:52:24.670665Z",
     "start_time": "2021-06-30T23:52:24.659669Z"
    }
   },
   "outputs": [],
   "source": [
    "records = [{'id': top_lineages[0], \n",
    "            'temp': '1',\n",
    "            'seq': seq_temp[0]}, \n",
    "           \n",
    "           {'id': top_lineages[1], \n",
    "            'temp': '2',\n",
    "            'seq': seq_temp[1]}, \n",
    "           \n",
    "           {'id': top_lineages[2], \n",
    "            'temp': '3',\n",
    "            'seq': seq_temp[2]}, \n",
    "           \n",
    "           {'id': top_lineages[3], \n",
    "            'temp': '4',\n",
    "            'seq': seq_temp[3]}, \n",
    "           \n",
    "           {'id': top_lineages[4], \n",
    "            'temp': '5',\n",
    "            'seq': seq_temp[4]}]"
   ]
  },
  {
   "cell_type": "code",
   "execution_count": 63,
   "metadata": {
    "ExecuteTime": {
     "end_time": "2021-06-30T23:52:25.860754Z",
     "start_time": "2021-06-30T23:52:25.843730Z"
    }
   },
   "outputs": [
    {
     "data": {
      "text/plain": [
       "'B.1.258'"
      ]
     },
     "execution_count": 63,
     "metadata": {},
     "output_type": "execute_result"
    }
   ],
   "source": [
    "records[0]['id']"
   ]
  },
  {
   "cell_type": "code",
   "execution_count": 73,
   "metadata": {
    "ExecuteTime": {
     "end_time": "2021-07-01T00:07:54.846515Z",
     "start_time": "2021-07-01T00:07:54.819365Z"
    }
   },
   "outputs": [
    {
     "name": "stdout",
     "output_type": "stream",
     "text": [
      "<generator object <genexpr> at 0x00000217EC5B60C8>\n"
     ]
    }
   ],
   "source": [
    "def make_protein_record(nuc_record):\n",
    "    return SeqRecord(\n",
    "        seq=Seq(nuc_record['seq']),\n",
    "        id=\" \" + nuc_record['id'],\n",
    "        description=\" [Fasta file from linage analysis] \",\n",
    "    )\n",
    "\n",
    "\n",
    "sequences = (\n",
    "    make_protein_record(nuc_rec)\n",
    "    for nuc_rec in records\n",
    ")\n",
    "\n",
    "print(sequences)"
   ]
  },
  {
   "cell_type": "code",
   "execution_count": 74,
   "metadata": {
    "ExecuteTime": {
     "end_time": "2021-07-01T00:07:55.534031Z",
     "start_time": "2021-07-01T00:07:55.516531Z"
    }
   },
   "outputs": [
    {
     "data": {
      "text/plain": [
       "5"
      ]
     },
     "execution_count": 74,
     "metadata": {},
     "output_type": "execute_result"
    }
   ],
   "source": [
    "SeqIO.write(sequences, \"example2.fasta\", \"fasta\")"
   ]
  }
 ],
 "metadata": {
  "kernelspec": {
   "display_name": "Python 3",
   "language": "python",
   "name": "python3"
  },
  "language_info": {
   "codemirror_mode": {
    "name": "ipython",
    "version": 3
   },
   "file_extension": ".py",
   "mimetype": "text/x-python",
   "name": "python",
   "nbconvert_exporter": "python",
   "pygments_lexer": "ipython3",
   "version": "3.7.9"
  },
  "latex_envs": {
   "LaTeX_envs_menu_present": true,
   "autoclose": false,
   "autocomplete": true,
   "bibliofile": "biblio.bib",
   "cite_by": "apalike",
   "current_citInitial": 1,
   "eqLabelWithNumbers": true,
   "eqNumInitial": 1,
   "hotkeys": {
    "equation": "Ctrl-E",
    "itemize": "Ctrl-I"
   },
   "labels_anchors": false,
   "latex_user_defs": false,
   "report_style_numbering": false,
   "user_envs_cfg": false
  },
  "varInspector": {
   "cols": {
    "lenName": 16,
    "lenType": 16,
    "lenVar": 40
   },
   "kernels_config": {
    "python": {
     "delete_cmd_postfix": "",
     "delete_cmd_prefix": "del ",
     "library": "var_list.py",
     "varRefreshCmd": "print(var_dic_list())"
    },
    "r": {
     "delete_cmd_postfix": ") ",
     "delete_cmd_prefix": "rm(",
     "library": "var_list.r",
     "varRefreshCmd": "cat(var_dic_list()) "
    }
   },
   "types_to_exclude": [
    "module",
    "function",
    "builtin_function_or_method",
    "instance",
    "_Feature"
   ],
   "window_display": false
  }
 },
 "nbformat": 4,
 "nbformat_minor": 4
}
